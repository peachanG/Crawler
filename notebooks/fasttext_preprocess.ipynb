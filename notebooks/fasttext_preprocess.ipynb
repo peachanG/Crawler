{
 "cells": [
  {
   "cell_type": "markdown",
   "metadata": {},
   "source": [
    "# FastTextの訓練データ、評価データの用意"
   ]
  },
  {
   "cell_type": "code",
   "execution_count": 4,
   "metadata": {},
   "outputs": [],
   "source": [
    "import pandas as pd\n",
    "import os"
   ]
  },
  {
   "cell_type": "code",
   "execution_count": 5,
   "metadata": {},
   "outputs": [],
   "source": [
    "input_dir = '../data/text_data/crawler'\n",
    "output_text_path = '../data/text_data/fasttext_input/train.txt'\n",
    "text_column = 'wakati_text'\n",
    "os.makedirs(os.path.dirname(output_text_path), exist_ok=True)"
   ]
  },
  {
   "cell_type": "code",
   "execution_count": 12,
   "metadata": {},
   "outputs": [
    {
     "name": "stdout",
     "output_type": "stream",
     "text": [
      "../data/text_data/crawler/negative/n_siko.csv\n",
      "../data/text_data/crawler/negative/nega_bot.csv\n",
      "../data/text_data/crawler/positive/kami_positive.csv\n",
      "../data/text_data/crawler/positive/positive_bot3.csv\n",
      "12844\n",
      "686\n"
     ]
    }
   ],
   "source": [
    "label_dict = {}\n",
    "text_list = []\n",
    "for i, label_ in enumerate(os.listdir(input_dir)):\n",
    "    if label_[0] == '.':\n",
    "        continue\n",
    "    i += 1\n",
    "    text_label_list = []\n",
    "    label_dict[label_] = i\n",
    "    label_path = os.path.join(input_dir, label_)\n",
    "    for csv_name in os.listdir(label_path):\n",
    "        if not csv_name.endswith(\".csv\"):\n",
    "            continue\n",
    "        csv_path = os.path.join(label_path, csv_name)\n",
    "        print (csv_path)\n",
    "        df = pd.read_csv(csv_path, engine='python')\n",
    "        text_label_list.extend(df[text_column].values.tolist())\n",
    "    \n",
    "    text_label_list = ['__label__{} '.format(i) + text + ' \\n' for text in text_label_list]\n",
    "    text_list.extend(text_label_list)\n",
    "\n",
    "print (len(text_list))\n",
    "text_list = list(set(text_list))\n",
    "print (len(text_list))\n",
    "with open(output_text_path, 'w') as f:\n",
    "    f.writelines(text_list)"
   ]
  },
  {
   "cell_type": "code",
   "execution_count": null,
   "metadata": {},
   "outputs": [],
   "source": []
  }
 ],
 "metadata": {
  "kernelspec": {
   "display_name": "Python 3",
   "language": "python",
   "name": "python3"
  },
  "language_info": {
   "codemirror_mode": {
    "name": "ipython",
    "version": 3
   },
   "file_extension": ".py",
   "mimetype": "text/x-python",
   "name": "python",
   "nbconvert_exporter": "python",
   "pygments_lexer": "ipython3",
   "version": "3.7.3"
  }
 },
 "nbformat": 4,
 "nbformat_minor": 2
}
