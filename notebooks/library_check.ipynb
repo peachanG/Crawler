{
 "cells": [
  {
   "cell_type": "markdown",
   "metadata": {},
   "source": [
    "# 形態素解析のライブラリ"
   ]
  },
  {
   "cell_type": "markdown",
   "metadata": {},
   "source": [
    "## 1. Mecab"
   ]
  },
  {
   "cell_type": "code",
   "execution_count": 2,
   "metadata": {},
   "outputs": [],
   "source": [
    "import MeCab"
   ]
  },
  {
   "cell_type": "code",
   "execution_count": 6,
   "metadata": {},
   "outputs": [],
   "source": [
    "m = MeCab.Tagger(\"\")"
   ]
  },
  {
   "cell_type": "code",
   "execution_count": 8,
   "metadata": {},
   "outputs": [
    {
     "name": "stdout",
     "output_type": "stream",
     "text": [
      "依存\t名詞,サ変接続,*,*,*,*,依存,イゾン,イゾン\n",
      "構造\t名詞,一般,*,*,*,*,構造,コウゾウ,コーゾー\n",
      "解析\t名詞,サ変接続,*,*,*,*,解析,カイセキ,カイセキ\n",
      "の\t助詞,連体化,*,*,*,*,の,ノ,ノ\n",
      "実験\t名詞,サ変接続,*,*,*,*,実験,ジッケン,ジッケン\n",
      "を\t助詞,格助詞,一般,*,*,*,を,ヲ,ヲ\n",
      "行っ\t動詞,自立,*,*,五段・ワ行促音便,連用タ接続,行う,オコナッ,オコナッ\n",
      "て\t助詞,接続助詞,*,*,*,*,て,テ,テ\n",
      "い\t動詞,非自立,*,*,一段,連用形,いる,イ,イ\n",
      "ます\t助動詞,*,*,*,特殊・マス,基本形,ます,マス,マス\n",
      "。\t記号,句点,*,*,*,*,。,。,。\n",
      "EOS\n",
      "\n"
     ]
    }
   ],
   "source": [
    "print (m.parse(\"依存構造解析の実験を行っています。\"))"
   ]
  },
  {
   "cell_type": "markdown",
   "metadata": {},
   "source": [
    "## 2. Ginza"
   ]
  },
  {
   "cell_type": "code",
   "execution_count": 5,
   "metadata": {},
   "outputs": [
    {
     "name": "stdout",
     "output_type": "stream",
     "text": [
      "0 依存 依存 NOUN compound 2\n",
      "1 構造 構造 NOUN compound 2\n",
      "2 解析 解析 NOUN nmod 4\n",
      "3 の の ADP case 2\n",
      "4 実験 実験 NOUN obj 6\n",
      "5 を を ADP case 4\n",
      "6 行っ 行う VERB root 6\n",
      "7 て て SCONJ mark 6\n",
      "8 い 居る AUX aux 6\n",
      "9 ます ます AUX aux 6\n",
      "10 。 。 PUNCT punct 6\n",
      "EOS\n"
     ]
    }
   ],
   "source": [
    "import spacy\n",
    "nlp = spacy.load('ja_ginza_nopn')\n",
    "doc = nlp('依存構造解析の実験を行っています。')\n",
    "for sent in doc.sents:\n",
    "    for token in sent:\n",
    "        print(token.i, token.orth_, token.lemma_, token.pos_, token.dep_, token.head.i)\n",
    "    print('EOS')"
   ]
  },
  {
   "cell_type": "code",
   "execution_count": 6,
   "metadata": {},
   "outputs": [
    {
     "data": {
      "text/plain": [
       "spacy.lang.ja_ginza.Japanese"
      ]
     },
     "execution_count": 6,
     "metadata": {},
     "output_type": "execute_result"
    }
   ],
   "source": [
    "type(nlp)"
   ]
  },
  {
   "cell_type": "code",
   "execution_count": 20,
   "metadata": {},
   "outputs": [
    {
     "name": "stdout",
     "output_type": "stream",
     "text": [
      "1\t依存\t依存\t名詞-普通名詞-サ変可能\n",
      "2\t構造\t構造\t名詞-普通名詞-一般\n",
      "3\t解析\t解析\t名詞-普通名詞-サ変可能\n",
      "4\tの\tの\t助詞-格助詞\n",
      "5\t実験\t実験\t名詞-普通名詞-サ変可能\n",
      "6\tを\tを\t助詞-格助詞\n",
      "7\t行っ\t行う\t動詞-一般\n",
      "8\tて\tて\t助詞-接続助詞\n",
      "9\tい\t居る\t動詞-非自立可能\n",
      "10\tます\tます\t助動詞\n",
      "11\t。\t。\t補助記号-句点\n",
      "EOS\n"
     ]
    }
   ],
   "source": [
    "nlp = spacy.load('ja_ginza_nopn')\n",
    "doc = nlp('依存構造解析の実験を行っています。')\n",
    "for sent in doc.sents:\n",
    "    for token in sent:\n",
    "        print('{}\\t{}\\t{}\\t{}'.format(\n",
    "        token.i + 1,\n",
    "        token.orth_,\n",
    "        token.lemma_,\n",
    "        token._.pos_detail.replace(',*', '').replace(',', '-')))\n",
    "    print('EOS')"
   ]
  },
  {
   "cell_type": "code",
   "execution_count": 21,
   "metadata": {},
   "outputs": [
    {
     "name": "stdout",
     "output_type": "stream",
     "text": [
      "0 依存 依存 NOUN compound 2\n",
      "1 構造 構造 NOUN compound 2\n",
      "2 解析 解析 NOUN nmod 4\n",
      "3 の の ADP case 2\n",
      "4 実験 実験 NOUN obj 6\n",
      "5 を を ADP case 4\n",
      "6 行っ 行う VERB root 6\n",
      "7 て て SCONJ mark 6\n",
      "8 い 居る AUX aux 6\n",
      "9 ます ます AUX aux 6\n",
      "10 。 。 PUNCT punct 6\n",
      "EOS\n"
     ]
    }
   ],
   "source": [
    "import spacy\n",
    "nlp = spacy.load('ja_ginza_nopn')\n",
    "doc = nlp('依存構造解析の実験を行っています。')\n",
    "for sent in doc.sents:\n",
    "    for token in sent:\n",
    "        print(token.i, token.orth_, token.lemma_, token.pos_, token.dep_, token.head.i)\n",
    "    print('EOS')"
   ]
  },
  {
   "cell_type": "code",
   "execution_count": null,
   "metadata": {},
   "outputs": [],
   "source": []
  }
 ],
 "metadata": {
  "kernelspec": {
   "display_name": "Python 3",
   "language": "python",
   "name": "python3"
  },
  "language_info": {
   "codemirror_mode": {
    "name": "ipython",
    "version": 3
   },
   "file_extension": ".py",
   "mimetype": "text/x-python",
   "name": "python",
   "nbconvert_exporter": "python",
   "pygments_lexer": "ipython3",
   "version": "3.7.3"
  }
 },
 "nbformat": 4,
 "nbformat_minor": 2
}
