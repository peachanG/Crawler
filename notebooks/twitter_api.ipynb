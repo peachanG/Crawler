{
 "cells": [
  {
   "cell_type": "markdown",
   "metadata": {
    "toc-hr-collapsed": false
   },
   "source": [
    "# TwitterAPIの基本機能\n",
    "- ## [API(python)](https://github.com/sixohsix/twitter)\n",
    "- ## [API(original)](https://developer.twitter.com/en/docs/api-reference-index)"
   ]
  },
  {
   "cell_type": "markdown",
   "metadata": {
    "toc-hr-collapsed": false
   },
   "source": [
    "## 1. TwitterのAPIの初期設定(tokenの登録)"
   ]
  },
  {
   "cell_type": "code",
   "execution_count": 1,
   "metadata": {},
   "outputs": [],
   "source": [
    "import os\n",
    "import sys\n",
    "import codecs\n",
    "import json\n",
    "import argparse\n",
    "import ssl\n",
    "\n",
    "ssl._create_default_https_context = ssl._create_unverified_context\n",
    "\n",
    "import twitter\n",
    "\n",
    "sys.path.append(\"..\")\n",
    "import utils.global_function as global_func"
   ]
  },
  {
   "cell_type": "code",
   "execution_count": 2,
   "metadata": {},
   "outputs": [],
   "source": [
    "token_path = '../data/twitter_token.yml'\n",
    "token_config = global_func.load_config(token_path)\n",
    "\n",
    "\"\"\"アクセストークンの読み込み.\"\"\"\n",
    "ConsumerKey = token_config['ConsumerKey']\n",
    "ConsumerSecret = token_config['ConsumerSecret']\n",
    "AccessToken = token_config['AccessToken']\n",
    "AccessTokenSecret = token_config['AccessTokenSecret']\n",
    "\n",
    "t = twitter.Twitter(auth=twitter.OAuth(AccessToken, AccessTokenSecret, ConsumerKey, ConsumerSecret), retry=True)"
   ]
  },
  {
   "cell_type": "markdown",
   "metadata": {
    "toc-hr-collapsed": true
   },
   "source": [
    "## 2. APIの各種機能"
   ]
  },
  {
   "cell_type": "markdown",
   "metadata": {
    "toc-hr-collapsed": true
   },
   "source": [
    "### 2.1 Show(tweetIDから検索)"
   ]
  },
  {
   "cell_type": "code",
   "execution_count": 3,
   "metadata": {},
   "outputs": [
    {
     "data": {
      "text/plain": [
       "{'created_at': 'Thu Apr 04 13:18:49 +0000 2019',\n",
       " 'id': 1113793044644368390,\n",
       " 'id_str': '1113793044644368390',\n",
       " 'text': '僕の優秀なフォロワーさん\\nTwitterにこういう機能あったらいいのに\\nみたいなんあります？',\n",
       " 'truncated': False,\n",
       " 'entities': {'hashtags': [], 'symbols': [], 'user_mentions': [], 'urls': []},\n",
       " 'source': '<a href=\"http://twitter.com/download/android\" rel=\"nofollow\">Twitter for Android</a>',\n",
       " 'in_reply_to_status_id': None,\n",
       " 'in_reply_to_status_id_str': None,\n",
       " 'in_reply_to_user_id': None,\n",
       " 'in_reply_to_user_id_str': None,\n",
       " 'in_reply_to_screen_name': None,\n",
       " 'user': {'id': 780396177606873088,\n",
       "  'id_str': '780396177606873088',\n",
       "  'name': 'Peach-gan(r6s初心者)',\n",
       "  'screen_name': 'peachgan_r6s',\n",
       "  'location': '',\n",
       "  'description': 'youtubeで配信してます。\\n自分ではよくわからないんですが\\n暴言よく吐いているらしいです。\\n\\n嫌いでなければ、フォローお願いします。',\n",
       "  'url': None,\n",
       "  'entities': {'description': {'urls': []}},\n",
       "  'protected': False,\n",
       "  'followers_count': 64,\n",
       "  'friends_count': 90,\n",
       "  'listed_count': 0,\n",
       "  'created_at': 'Mon Sep 26 13:18:42 +0000 2016',\n",
       "  'favourites_count': 91,\n",
       "  'utc_offset': None,\n",
       "  'time_zone': None,\n",
       "  'geo_enabled': False,\n",
       "  'verified': False,\n",
       "  'statuses_count': 797,\n",
       "  'lang': 'ja',\n",
       "  'contributors_enabled': False,\n",
       "  'is_translator': False,\n",
       "  'is_translation_enabled': False,\n",
       "  'profile_background_color': 'F5F8FA',\n",
       "  'profile_background_image_url': None,\n",
       "  'profile_background_image_url_https': None,\n",
       "  'profile_background_tile': False,\n",
       "  'profile_image_url': 'http://pbs.twimg.com/profile_images/895887908036526080/XLA3wzhk_normal.jpg',\n",
       "  'profile_image_url_https': 'https://pbs.twimg.com/profile_images/895887908036526080/XLA3wzhk_normal.jpg',\n",
       "  'profile_link_color': '1DA1F2',\n",
       "  'profile_sidebar_border_color': 'C0DEED',\n",
       "  'profile_sidebar_fill_color': 'DDEEF6',\n",
       "  'profile_text_color': '333333',\n",
       "  'profile_use_background_image': True,\n",
       "  'has_extended_profile': False,\n",
       "  'default_profile': True,\n",
       "  'default_profile_image': False,\n",
       "  'following': False,\n",
       "  'follow_request_sent': False,\n",
       "  'notifications': False,\n",
       "  'translator_type': 'none'},\n",
       " 'geo': None,\n",
       " 'coordinates': None,\n",
       " 'place': None,\n",
       " 'contributors': None,\n",
       " 'is_quote_status': False,\n",
       " 'retweet_count': 0,\n",
       " 'favorite_count': 7,\n",
       " 'favorited': False,\n",
       " 'retweeted': False,\n",
       " 'lang': 'ja'}"
      ]
     },
     "execution_count": 3,
     "metadata": {},
     "output_type": "execute_result"
    }
   ],
   "source": [
    "t.statuses.show(id=1113793044644368390)"
   ]
  },
  {
   "cell_type": "markdown",
   "metadata": {},
   "source": [
    "### 2.2 UserTimeLine(screen_nameから検索)"
   ]
  },
  {
   "cell_type": "code",
   "execution_count": 4,
   "metadata": {},
   "outputs": [
    {
     "data": {
      "text/plain": [
       "[{'created_at': 'Tue Apr 09 11:33:10 +0000 2019',\n",
       "  'id': 1115578394261970944,\n",
       "  'id_str': '1115578394261970944',\n",
       "  'text': '@OKaZaKi_kur0r1 ね！\\nなんか説明されたけど\\nようわからんかったw',\n",
       "  'truncated': False,\n",
       "  'entities': {'hashtags': [],\n",
       "   'symbols': [],\n",
       "   'user_mentions': [{'screen_name': 'OKaZaKi_kur0r1',\n",
       "     'name': '岡崎 くろり',\n",
       "     'id': 776002253471703041,\n",
       "     'id_str': '776002253471703041',\n",
       "     'indices': [0, 15]}],\n",
       "   'urls': []},\n",
       "  'source': '<a href=\"http://twitter.com/download/android\" rel=\"nofollow\">Twitter for Android</a>',\n",
       "  'in_reply_to_status_id': 1115577082484936704,\n",
       "  'in_reply_to_status_id_str': '1115577082484936704',\n",
       "  'in_reply_to_user_id': 776002253471703041,\n",
       "  'in_reply_to_user_id_str': '776002253471703041',\n",
       "  'in_reply_to_screen_name': 'OKaZaKi_kur0r1',\n",
       "  'user': {'id': 780396177606873088,\n",
       "   'id_str': '780396177606873088',\n",
       "   'name': 'Peach-gan(r6s初心者)',\n",
       "   'screen_name': 'peachgan_r6s',\n",
       "   'location': '',\n",
       "   'description': 'youtubeで配信してます。\\n自分ではよくわからないんですが\\n暴言よく吐いているらしいです。\\n\\n嫌いでなければ、フォローお願いします。',\n",
       "   'url': None,\n",
       "   'entities': {'description': {'urls': []}},\n",
       "   'protected': False,\n",
       "   'followers_count': 64,\n",
       "   'friends_count': 90,\n",
       "   'listed_count': 0,\n",
       "   'created_at': 'Mon Sep 26 13:18:42 +0000 2016',\n",
       "   'favourites_count': 91,\n",
       "   'utc_offset': None,\n",
       "   'time_zone': None,\n",
       "   'geo_enabled': False,\n",
       "   'verified': False,\n",
       "   'statuses_count': 797,\n",
       "   'lang': 'ja',\n",
       "   'contributors_enabled': False,\n",
       "   'is_translator': False,\n",
       "   'is_translation_enabled': False,\n",
       "   'profile_background_color': 'F5F8FA',\n",
       "   'profile_background_image_url': None,\n",
       "   'profile_background_image_url_https': None,\n",
       "   'profile_background_tile': False,\n",
       "   'profile_image_url': 'http://pbs.twimg.com/profile_images/895887908036526080/XLA3wzhk_normal.jpg',\n",
       "   'profile_image_url_https': 'https://pbs.twimg.com/profile_images/895887908036526080/XLA3wzhk_normal.jpg',\n",
       "   'profile_link_color': '1DA1F2',\n",
       "   'profile_sidebar_border_color': 'C0DEED',\n",
       "   'profile_sidebar_fill_color': 'DDEEF6',\n",
       "   'profile_text_color': '333333',\n",
       "   'profile_use_background_image': True,\n",
       "   'has_extended_profile': False,\n",
       "   'default_profile': True,\n",
       "   'default_profile_image': False,\n",
       "   'following': False,\n",
       "   'follow_request_sent': False,\n",
       "   'notifications': False,\n",
       "   'translator_type': 'none'},\n",
       "  'geo': None,\n",
       "  'coordinates': None,\n",
       "  'place': None,\n",
       "  'contributors': None,\n",
       "  'is_quote_status': False,\n",
       "  'retweet_count': 0,\n",
       "  'favorite_count': 0,\n",
       "  'favorited': False,\n",
       "  'retweeted': False,\n",
       "  'lang': 'ja'},\n",
       " {'created_at': 'Tue Apr 09 11:27:40 +0000 2019',\n",
       "  'id': 1115577011848671233,\n",
       "  'id_str': '1115577011848671233',\n",
       "  'text': '@Marctngsh 研修結構大変でちゅー',\n",
       "  'truncated': False,\n",
       "  'entities': {'hashtags': [],\n",
       "   'symbols': [],\n",
       "   'user_mentions': [{'screen_name': 'Marctngsh',\n",
       "     'name': 'とし',\n",
       "     'id': 820637501261914112,\n",
       "     'id_str': '820637501261914112',\n",
       "     'indices': [0, 10]}],\n",
       "   'urls': []},\n",
       "  'source': '<a href=\"http://twitter.com/download/android\" rel=\"nofollow\">Twitter for Android</a>',\n",
       "  'in_reply_to_status_id': 1115576085477859328,\n",
       "  'in_reply_to_status_id_str': '1115576085477859328',\n",
       "  'in_reply_to_user_id': 820637501261914112,\n",
       "  'in_reply_to_user_id_str': '820637501261914112',\n",
       "  'in_reply_to_screen_name': 'Marctngsh',\n",
       "  'user': {'id': 780396177606873088,\n",
       "   'id_str': '780396177606873088',\n",
       "   'name': 'Peach-gan(r6s初心者)',\n",
       "   'screen_name': 'peachgan_r6s',\n",
       "   'location': '',\n",
       "   'description': 'youtubeで配信してます。\\n自分ではよくわからないんですが\\n暴言よく吐いているらしいです。\\n\\n嫌いでなければ、フォローお願いします。',\n",
       "   'url': None,\n",
       "   'entities': {'description': {'urls': []}},\n",
       "   'protected': False,\n",
       "   'followers_count': 64,\n",
       "   'friends_count': 90,\n",
       "   'listed_count': 0,\n",
       "   'created_at': 'Mon Sep 26 13:18:42 +0000 2016',\n",
       "   'favourites_count': 91,\n",
       "   'utc_offset': None,\n",
       "   'time_zone': None,\n",
       "   'geo_enabled': False,\n",
       "   'verified': False,\n",
       "   'statuses_count': 797,\n",
       "   'lang': 'ja',\n",
       "   'contributors_enabled': False,\n",
       "   'is_translator': False,\n",
       "   'is_translation_enabled': False,\n",
       "   'profile_background_color': 'F5F8FA',\n",
       "   'profile_background_image_url': None,\n",
       "   'profile_background_image_url_https': None,\n",
       "   'profile_background_tile': False,\n",
       "   'profile_image_url': 'http://pbs.twimg.com/profile_images/895887908036526080/XLA3wzhk_normal.jpg',\n",
       "   'profile_image_url_https': 'https://pbs.twimg.com/profile_images/895887908036526080/XLA3wzhk_normal.jpg',\n",
       "   'profile_link_color': '1DA1F2',\n",
       "   'profile_sidebar_border_color': 'C0DEED',\n",
       "   'profile_sidebar_fill_color': 'DDEEF6',\n",
       "   'profile_text_color': '333333',\n",
       "   'profile_use_background_image': True,\n",
       "   'has_extended_profile': False,\n",
       "   'default_profile': True,\n",
       "   'default_profile_image': False,\n",
       "   'following': False,\n",
       "   'follow_request_sent': False,\n",
       "   'notifications': False,\n",
       "   'translator_type': 'none'},\n",
       "  'geo': None,\n",
       "  'coordinates': None,\n",
       "  'place': None,\n",
       "  'contributors': None,\n",
       "  'is_quote_status': False,\n",
       "  'retweet_count': 0,\n",
       "  'favorite_count': 0,\n",
       "  'favorited': False,\n",
       "  'retweeted': False,\n",
       "  'lang': 'ja'}]"
      ]
     },
     "execution_count": 4,
     "metadata": {},
     "output_type": "execute_result"
    }
   ],
   "source": [
    "t.statuses.user_timeline(screen_name=\"peachgan_r6s\", count=2)"
   ]
  },
  {
   "cell_type": "markdown",
   "metadata": {},
   "source": [
    "### 2.3 Search(screen_nameの人に対するツイートを検索)"
   ]
  },
  {
   "cell_type": "code",
   "execution_count": 5,
   "metadata": {},
   "outputs": [
    {
     "data": {
      "text/plain": [
       "{'statuses': [{'created_at': 'Tue Apr 09 12:09:17 +0000 2019',\n",
       "   'id': 1115587482903400448,\n",
       "   'id_str': '1115587482903400448',\n",
       "   'text': '@peachgan_r6s 俺もしんどい',\n",
       "   'truncated': False,\n",
       "   'entities': {'hashtags': [],\n",
       "    'symbols': [],\n",
       "    'user_mentions': [{'screen_name': 'peachgan_r6s',\n",
       "      'name': 'Peach-gan(r6s初心者)',\n",
       "      'id': 780396177606873088,\n",
       "      'id_str': '780396177606873088',\n",
       "      'indices': [0, 13]}],\n",
       "    'urls': []},\n",
       "   'metadata': {'iso_language_code': 'ja', 'result_type': 'recent'},\n",
       "   'source': '<a href=\"http://twitter.com/download/iphone\" rel=\"nofollow\">Twitter for iPhone</a>',\n",
       "   'in_reply_to_status_id': 1115577011848671233,\n",
       "   'in_reply_to_status_id_str': '1115577011848671233',\n",
       "   'in_reply_to_user_id': 780396177606873088,\n",
       "   'in_reply_to_user_id_str': '780396177606873088',\n",
       "   'in_reply_to_screen_name': 'peachgan_r6s',\n",
       "   'user': {'id': 820637501261914112,\n",
       "    'id_str': '820637501261914112',\n",
       "    'name': 'とし',\n",
       "    'screen_name': 'Marctngsh',\n",
       "    'location': '元日本2位 平和に生きたい',\n",
       "    'description': 'padでfpsしてます。@shio_fp ヘッダー→@CieloVein',\n",
       "    'url': None,\n",
       "    'entities': {'description': {'urls': []}},\n",
       "    'protected': False,\n",
       "    'followers_count': 1237,\n",
       "    'friends_count': 1059,\n",
       "    'listed_count': 6,\n",
       "    'created_at': 'Sun Jan 15 14:23:21 +0000 2017',\n",
       "    'favourites_count': 4470,\n",
       "    'utc_offset': None,\n",
       "    'time_zone': None,\n",
       "    'geo_enabled': False,\n",
       "    'verified': False,\n",
       "    'statuses_count': 5078,\n",
       "    'lang': 'ja',\n",
       "    'contributors_enabled': False,\n",
       "    'is_translator': False,\n",
       "    'is_translation_enabled': False,\n",
       "    'profile_background_color': 'F5F8FA',\n",
       "    'profile_background_image_url': None,\n",
       "    'profile_background_image_url_https': None,\n",
       "    'profile_background_tile': False,\n",
       "    'profile_image_url': 'http://pbs.twimg.com/profile_images/1110960274104872960/SlivUOwk_normal.jpg',\n",
       "    'profile_image_url_https': 'https://pbs.twimg.com/profile_images/1110960274104872960/SlivUOwk_normal.jpg',\n",
       "    'profile_banner_url': 'https://pbs.twimg.com/profile_banners/820637501261914112/1549643221',\n",
       "    'profile_link_color': '1DA1F2',\n",
       "    'profile_sidebar_border_color': 'C0DEED',\n",
       "    'profile_sidebar_fill_color': 'DDEEF6',\n",
       "    'profile_text_color': '333333',\n",
       "    'profile_use_background_image': True,\n",
       "    'has_extended_profile': False,\n",
       "    'default_profile': True,\n",
       "    'default_profile_image': False,\n",
       "    'following': False,\n",
       "    'follow_request_sent': False,\n",
       "    'notifications': False,\n",
       "    'translator_type': 'none'},\n",
       "   'geo': None,\n",
       "   'coordinates': None,\n",
       "   'place': None,\n",
       "   'contributors': None,\n",
       "   'is_quote_status': False,\n",
       "   'retweet_count': 0,\n",
       "   'favorite_count': 0,\n",
       "   'favorited': False,\n",
       "   'retweeted': False,\n",
       "   'lang': 'ja'},\n",
       "  {'created_at': 'Tue Apr 09 11:27:57 +0000 2019',\n",
       "   'id': 1115577082484936704,\n",
       "   'id_str': '1115577082484936704',\n",
       "   'text': '@peachgan_r6s いろんな撮影する場所なんだね！！\\nボタンいっぱいで難しそう！！←バカ丸出し',\n",
       "   'truncated': False,\n",
       "   'entities': {'hashtags': [],\n",
       "    'symbols': [],\n",
       "    'user_mentions': [{'screen_name': 'peachgan_r6s',\n",
       "      'name': 'Peach-gan(r6s初心者)',\n",
       "      'id': 780396177606873088,\n",
       "      'id_str': '780396177606873088',\n",
       "      'indices': [0, 13]}],\n",
       "    'urls': []},\n",
       "   'metadata': {'iso_language_code': 'ja', 'result_type': 'recent'},\n",
       "   'source': '<a href=\"http://twitter.com/download/android\" rel=\"nofollow\">Twitter for Android</a>',\n",
       "   'in_reply_to_status_id': 1115576790284550144,\n",
       "   'in_reply_to_status_id_str': '1115576790284550144',\n",
       "   'in_reply_to_user_id': 780396177606873088,\n",
       "   'in_reply_to_user_id_str': '780396177606873088',\n",
       "   'in_reply_to_screen_name': 'peachgan_r6s',\n",
       "   'user': {'id': 776002253471703041,\n",
       "    'id_str': '776002253471703041',\n",
       "    'name': '岡崎 くろり',\n",
       "    'screen_name': 'OKaZaKi_kur0r1',\n",
       "    'location': '↓度々配信してる私のチャンネルです(*´-`)↓',\n",
       "    'description': 'PS4。R6S*PUBG*BO4*BIOHAZARD*DQB！笑いながらやるのが大好きな勝ち負けすら気にしないのんびりエンジョイ勢です！面白い人大好き！♡尊敬しているかずおさん@kazuosan555♡のモデもやらせてもらってます！！知り合いは、一言もらえればフォロバします🙇',\n",
       "    'url': 'https://t.co/CDQcxWmQOK',\n",
       "    'entities': {'url': {'urls': [{'url': 'https://t.co/CDQcxWmQOK',\n",
       "        'expanded_url': 'https://www.youtube.com/user/kur0r1',\n",
       "        'display_url': 'youtube.com/user/kur0r1',\n",
       "        'indices': [0, 23]}]},\n",
       "     'description': {'urls': []}},\n",
       "    'protected': False,\n",
       "    'followers_count': 932,\n",
       "    'friends_count': 554,\n",
       "    'listed_count': 13,\n",
       "    'created_at': 'Wed Sep 14 10:18:49 +0000 2016',\n",
       "    'favourites_count': 20268,\n",
       "    'utc_offset': None,\n",
       "    'time_zone': None,\n",
       "    'geo_enabled': False,\n",
       "    'verified': False,\n",
       "    'statuses_count': 18971,\n",
       "    'lang': 'ja',\n",
       "    'contributors_enabled': False,\n",
       "    'is_translator': False,\n",
       "    'is_translation_enabled': False,\n",
       "    'profile_background_color': 'F5F8FA',\n",
       "    'profile_background_image_url': None,\n",
       "    'profile_background_image_url_https': None,\n",
       "    'profile_background_tile': False,\n",
       "    'profile_image_url': 'http://pbs.twimg.com/profile_images/990119128844320771/_p8Iwk41_normal.jpg',\n",
       "    'profile_image_url_https': 'https://pbs.twimg.com/profile_images/990119128844320771/_p8Iwk41_normal.jpg',\n",
       "    'profile_banner_url': 'https://pbs.twimg.com/profile_banners/776002253471703041/1545976140',\n",
       "    'profile_link_color': '1DA1F2',\n",
       "    'profile_sidebar_border_color': 'C0DEED',\n",
       "    'profile_sidebar_fill_color': 'DDEEF6',\n",
       "    'profile_text_color': '333333',\n",
       "    'profile_use_background_image': True,\n",
       "    'has_extended_profile': True,\n",
       "    'default_profile': True,\n",
       "    'default_profile_image': False,\n",
       "    'following': False,\n",
       "    'follow_request_sent': False,\n",
       "    'notifications': False,\n",
       "    'translator_type': 'none'},\n",
       "   'geo': None,\n",
       "   'coordinates': None,\n",
       "   'place': None,\n",
       "   'contributors': None,\n",
       "   'is_quote_status': False,\n",
       "   'retweet_count': 0,\n",
       "   'favorite_count': 0,\n",
       "   'favorited': False,\n",
       "   'retweeted': False,\n",
       "   'lang': 'ja'}],\n",
       " 'search_metadata': {'completed_in': 0.032,\n",
       "  'max_id': 1115587482903400448,\n",
       "  'max_id_str': '1115587482903400448',\n",
       "  'next_results': '?max_id=1115577082484936703&q=%40peachgan_r6s&count=2&include_entities=1',\n",
       "  'query': '%40peachgan_r6s',\n",
       "  'refresh_url': '?since_id=1115587482903400448&q=%40peachgan_r6s&include_entities=1',\n",
       "  'count': 2,\n",
       "  'since_id': 0,\n",
       "  'since_id_str': '0'}}"
      ]
     },
     "execution_count": 5,
     "metadata": {},
     "output_type": "execute_result"
    }
   ],
   "source": [
    "t.search.tweets(q=\"@peachgan_r6s\", count=2)"
   ]
  },
  {
   "cell_type": "markdown",
   "metadata": {
    "toc-hr-collapsed": true
   },
   "source": [
    "## 3. replyを所得"
   ]
  },
  {
   "cell_type": "markdown",
   "metadata": {},
   "source": [
    "### 3.1 元ツイートからUserのscreen_nameを取得"
   ]
  },
  {
   "cell_type": "code",
   "execution_count": 6,
   "metadata": {},
   "outputs": [],
   "source": [
    "root_tweet_id = 1115533237823000577"
   ]
  },
  {
   "cell_type": "code",
   "execution_count": 7,
   "metadata": {},
   "outputs": [],
   "source": [
    "root_tweet = t.statuses.show(id=root_tweet_id)"
   ]
  },
  {
   "cell_type": "code",
   "execution_count": 8,
   "metadata": {},
   "outputs": [],
   "source": [
    "root_user_screen_name = \"@\"+ root_tweet['user']['screen_name']\n",
    "root_user_id = root_tweet['user']['id']\n",
    "root_tweet_id = root_tweet['id']"
   ]
  },
  {
   "cell_type": "markdown",
   "metadata": {},
   "source": [
    "### 3.2 元ツイートのuserに対するツイート（リプライ）を所得(since_idで範囲を限定)"
   ]
  },
  {
   "cell_type": "code",
   "execution_count": 9,
   "metadata": {},
   "outputs": [
    {
     "data": {
      "text/plain": [
       "3"
      ]
     },
     "execution_count": 9,
     "metadata": {},
     "output_type": "execute_result"
    }
   ],
   "source": [
    "responces = t.search.tweets(q=root_user_screen_name, since_id=root_tweet_id, count=100)['statuses']\n",
    "len(responces)"
   ]
  },
  {
   "cell_type": "code",
   "execution_count": 10,
   "metadata": {},
   "outputs": [],
   "source": [
    "replys_t = []\n",
    "replys = []\n",
    "for responce in responces:\n",
    "     if responce['in_reply_to_status_id'] == root_tweet_id:\n",
    "            replys_t.append(responce['text'])\n",
    "            replys.append(responce)"
   ]
  },
  {
   "cell_type": "code",
   "execution_count": 11,
   "metadata": {},
   "outputs": [
    {
     "data": {
      "text/plain": [
       "[{'created_at': 'Tue Apr 09 08:33:58 +0000 2019',\n",
       "  'id': 1115533299760254981,\n",
       "  'id_str': '1115533299760254981',\n",
       "  'text': '@lALpMD6hnfSXlp2 ミニミニ',\n",
       "  'truncated': False,\n",
       "  'entities': {'hashtags': [],\n",
       "   'symbols': [],\n",
       "   'user_mentions': [{'screen_name': 'lALpMD6hnfSXlp2',\n",
       "     'name': 'まなびちゃん',\n",
       "     'id': 1051429642110791681,\n",
       "     'id_str': '1051429642110791681',\n",
       "     'indices': [0, 16]}],\n",
       "   'urls': []},\n",
       "  'metadata': {'iso_language_code': 'ja', 'result_type': 'recent'},\n",
       "  'source': '<a href=\"http://twitter.com\" rel=\"nofollow\">Twitter Web Client</a>',\n",
       "  'in_reply_to_status_id': 1115533237823000577,\n",
       "  'in_reply_to_status_id_str': '1115533237823000577',\n",
       "  'in_reply_to_user_id': 1051429642110791681,\n",
       "  'in_reply_to_user_id_str': '1051429642110791681',\n",
       "  'in_reply_to_screen_name': 'lALpMD6hnfSXlp2',\n",
       "  'user': {'id': 780396177606873088,\n",
       "   'id_str': '780396177606873088',\n",
       "   'name': 'Peach-gan(r6s初心者)',\n",
       "   'screen_name': 'peachgan_r6s',\n",
       "   'location': '',\n",
       "   'description': 'youtubeで配信してます。\\n自分ではよくわからないんですが\\n暴言よく吐いているらしいです。\\n\\n嫌いでなければ、フォローお願いします。',\n",
       "   'url': None,\n",
       "   'entities': {'description': {'urls': []}},\n",
       "   'protected': False,\n",
       "   'followers_count': 64,\n",
       "   'friends_count': 90,\n",
       "   'listed_count': 0,\n",
       "   'created_at': 'Mon Sep 26 13:18:42 +0000 2016',\n",
       "   'favourites_count': 91,\n",
       "   'utc_offset': None,\n",
       "   'time_zone': None,\n",
       "   'geo_enabled': False,\n",
       "   'verified': False,\n",
       "   'statuses_count': 797,\n",
       "   'lang': 'ja',\n",
       "   'contributors_enabled': False,\n",
       "   'is_translator': False,\n",
       "   'is_translation_enabled': False,\n",
       "   'profile_background_color': 'F5F8FA',\n",
       "   'profile_background_image_url': None,\n",
       "   'profile_background_image_url_https': None,\n",
       "   'profile_background_tile': False,\n",
       "   'profile_image_url': 'http://pbs.twimg.com/profile_images/895887908036526080/XLA3wzhk_normal.jpg',\n",
       "   'profile_image_url_https': 'https://pbs.twimg.com/profile_images/895887908036526080/XLA3wzhk_normal.jpg',\n",
       "   'profile_link_color': '1DA1F2',\n",
       "   'profile_sidebar_border_color': 'C0DEED',\n",
       "   'profile_sidebar_fill_color': 'DDEEF6',\n",
       "   'profile_text_color': '333333',\n",
       "   'profile_use_background_image': True,\n",
       "   'has_extended_profile': False,\n",
       "   'default_profile': True,\n",
       "   'default_profile_image': False,\n",
       "   'following': False,\n",
       "   'follow_request_sent': False,\n",
       "   'notifications': False,\n",
       "   'translator_type': 'none'},\n",
       "  'geo': None,\n",
       "  'coordinates': None,\n",
       "  'place': None,\n",
       "  'contributors': None,\n",
       "  'is_quote_status': False,\n",
       "  'retweet_count': 0,\n",
       "  'favorite_count': 0,\n",
       "  'favorited': False,\n",
       "  'retweeted': False,\n",
       "  'lang': 'ja'}]"
      ]
     },
     "execution_count": 11,
     "metadata": {},
     "output_type": "execute_result"
    }
   ],
   "source": [
    "replys"
   ]
  },
  {
   "cell_type": "markdown",
   "metadata": {},
   "source": [
    "### 3.3 リプライのリプライを所得"
   ]
  },
  {
   "cell_type": "code",
   "execution_count": 12,
   "metadata": {},
   "outputs": [],
   "source": [
    "reply_replys = []\n",
    "reply_replys_t = []\n",
    "for reply in replys:\n",
    "    user_screen_name = \"@\"+ reply['user']['screen_name']\n",
    "    user_id = reply['user']['id']\n",
    "    tweet_id = reply['id']\n",
    "    reply_responces = t.search.tweets(q=user_screen_name, since_id=tweet_id, count=100)['statuses']\n",
    "    for reply_responce in reply_responces:\n",
    "        if reply_responce['in_reply_to_status_id'] == tweet_id:\n",
    "            reply_replys.append(reply_responce)\n",
    "            reply_replys_t.append(reply_responce['text'])"
   ]
  },
  {
   "cell_type": "markdown",
   "metadata": {
    "toc-hr-collapsed": true
   },
   "source": [
    "## 4. リプライを再帰的に所得する関数作成"
   ]
  },
  {
   "cell_type": "code",
   "execution_count": 13,
   "metadata": {},
   "outputs": [],
   "source": [
    "def get_replys(tweet_id, token_path):\n",
    "    api = build_api(token_path)\n",
    "    tweet = api.statuses.show(id=tweet_id)\n",
    "    reply_list = search_replys(tweet, api)\n",
    "    if len(reply_list[1]) == 0:\n",
    "        return reply_list\n",
    "    for i in range(len(reply_list[1])):\n",
    "        reply = reply_list[1][i]\n",
    "        reply_reply_list = search_replys(reply, api)\n",
    "        reply_list[1][i] = reply_reply_list\n",
    "    return reply_list"
   ]
  },
  {
   "cell_type": "code",
   "execution_count": 14,
   "metadata": {},
   "outputs": [],
   "source": [
    "def build_api(token_path):\n",
    "    token_config = global_func.load_config(token_path)\n",
    "\n",
    "    \"\"\"アクセストークンの読み込み.\"\"\"\n",
    "    ConsumerKey = token_config['ConsumerKey']\n",
    "    ConsumerSecret = token_config['ConsumerSecret']\n",
    "    AccessToken = token_config['AccessToken']\n",
    "    AccessTokenSecret = token_config['AccessTokenSecret']\n",
    "\n",
    "    api = twitter.Twitter(auth=twitter.OAuth(AccessToken, AccessTokenSecret, ConsumerKey, ConsumerSecret), retry=True)\n",
    "    return api"
   ]
  },
  {
   "cell_type": "code",
   "execution_count": 15,
   "metadata": {},
   "outputs": [],
   "source": [
    "def search_replys(tweet, api, max_count=100):\n",
    "    user_screen_name = \"@\"+ tweet['user']['screen_name']\n",
    "    user_id = tweet['user']['id']\n",
    "    tweet_id = tweet['id']\n",
    "    reply_list = []\n",
    "    while True:\n",
    "        responce_list = api.search.tweets(q=user_screen_name, since_id=tweet_id, count=max_count)['statuses']\n",
    "        for responce in responce_list:\n",
    "            if responce['in_reply_to_status_id'] == tweet_id:\n",
    "                reply_list.append(responce)\n",
    "        if len(responce_list) < max_count:\n",
    "            break\n",
    "    return [tweet, reply_list]"
   ]
  },
  {
   "cell_type": "markdown",
   "metadata": {
    "toc-hr-collapsed": true
   },
   "source": [
    "## 5. 実行例"
   ]
  },
  {
   "cell_type": "code",
   "execution_count": 16,
   "metadata": {},
   "outputs": [
    {
     "name": "stdout",
     "output_type": "stream",
     "text": [
      "マナマナ\n",
      "@lALpMD6hnfSXlp2 ミニミニ\n",
      "@peachgan_r6s へろー\n"
     ]
    }
   ],
   "source": [
    "token_path = '../data/twitter_token.yml'\n",
    "root_tweet_id = 1115533237823000577\n",
    "\n",
    "a = get_replys(root_tweet_id, token_path)\n",
    "\n",
    "print (a[0].get('text'))\n",
    "for i in a[1]:\n",
    "    print (i[0].get('text'))\n",
    "    for j in i[1]:\n",
    "        print (j.get('text'))"
   ]
  }
 ],
 "metadata": {
  "kernelspec": {
   "display_name": "Python 3",
   "language": "python",
   "name": "python3"
  },
  "language_info": {
   "codemirror_mode": {
    "name": "ipython",
    "version": 3
   },
   "file_extension": ".py",
   "mimetype": "text/x-python",
   "name": "python",
   "nbconvert_exporter": "python",
   "pygments_lexer": "ipython3",
   "version": "3.7.3"
  }
 },
 "nbformat": 4,
 "nbformat_minor": 2
}
