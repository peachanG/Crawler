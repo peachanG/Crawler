{
 "cells": [
  {
   "cell_type": "markdown",
   "metadata": {
    "toc-hr-collapsed": false
   },
   "source": [
    "# 分かち書き"
   ]
  },
  {
   "cell_type": "code",
   "execution_count": 1,
   "metadata": {},
   "outputs": [],
   "source": [
    "import spacy\n",
    "import MeCab"
   ]
  },
  {
   "cell_type": "markdown",
   "metadata": {
    "toc-hr-collapsed": false
   },
   "source": [
    "## 前処理"
   ]
  },
  {
   "cell_type": "code",
   "execution_count": 2,
   "metadata": {},
   "outputs": [],
   "source": [
    "mecab = MeCab.Tagger(\"\")\n",
    "mecab.parse(\"\")#文字列がGCされるのを防ぐ\n",
    "text = \"依存構造解析の実験を行っています。\""
   ]
  },
  {
   "cell_type": "code",
   "execution_count": 3,
   "metadata": {},
   "outputs": [
    {
     "name": "stdout",
     "output_type": "stream",
     "text": [
      "依存 ['名詞', 'サ変接続', '*', '*', '*', '*', '依存', 'イゾン', 'イゾン']\n",
      "構造 ['名詞', '一般', '*', '*', '*', '*', '構造', 'コウゾウ', 'コーゾー']\n",
      "解析 ['名詞', 'サ変接続', '*', '*', '*', '*', '解析', 'カイセキ', 'カイセキ']\n",
      "の ['助詞', '連体化', '*', '*', '*', '*', 'の', 'ノ', 'ノ']\n",
      "実験 ['名詞', 'サ変接続', '*', '*', '*', '*', '実験', 'ジッケン', 'ジッケン']\n",
      "を ['助詞', '格助詞', '一般', '*', '*', '*', 'を', 'ヲ', 'ヲ']\n",
      "行っ ['動詞', '自立', '*', '*', '五段・ワ行促音便', '連用タ接続', '行う', 'オコナッ', 'オコナッ']\n",
      "て ['助詞', '接続助詞', '*', '*', '*', '*', 'て', 'テ', 'テ']\n",
      "い ['動詞', '非自立', '*', '*', '一段', '連用形', 'いる', 'イ', 'イ']\n",
      "ます ['助動詞', '*', '*', '*', '特殊・マス', '基本形', 'ます', 'マス', 'マス']\n"
     ]
    }
   ],
   "source": [
    "node = mecab.parseToNode(text)\n",
    "while node:\n",
    "    word = node.surface\n",
    "    info = node.feature.split(',')\n",
    "    if not info[0] in ['BOS/EOS', '記号']:\n",
    "        print (word, info)\n",
    "    node = node.next"
   ]
  },
  {
   "cell_type": "code",
   "execution_count": 4,
   "metadata": {},
   "outputs": [
    {
     "name": "stdout",
     "output_type": "stream",
     "text": [
      "(100,)\n",
      "0 依存 依存 NOUN compound 2 名詞,普通名詞,サ変可能,*\n",
      "1 構造 構造 NOUN compound 2 名詞,普通名詞,一般,*\n",
      "2 解析 解析 NOUN nmod 4 名詞,普通名詞,サ変可能,*\n",
      "3 の の ADP case 2 助詞,格助詞,*,*\n",
      "4 実験 実験 NOUN obj 6 名詞,普通名詞,サ変可能,*\n",
      "5 を を ADP case 4 助詞,格助詞,*,*\n",
      "6 行っ 行う VERB root 6 動詞,一般,*,*\n",
      "7 て て SCONJ mark 6 助詞,接続助詞,*,*\n",
      "8 い 居る AUX aux 6 動詞,非自立可能,*,*\n",
      "9 ます ます AUX aux 6 助動詞,*,*,*\n",
      "10 。 。 PUNCT punct 6 補助記号,句点,*,*\n"
     ]
    }
   ],
   "source": [
    "nlp = spacy.load('ja_ginza_nopn')\n",
    "doc = nlp(text)\n",
    "print (doc.vector.shape)\n",
    "for sent in doc.sents:\n",
    "    for token in sent:\n",
    "        print(token.i, token.orth_, token.lemma_, token.pos_, token.dep_, token.head.i, token._.pos_detail)"
   ]
  },
  {
   "cell_type": "code",
   "execution_count": 30,
   "metadata": {},
   "outputs": [],
   "source": [
    "class BasePreprocess(object):\n",
    "    def __init__(self, dict_option='', delete_POS_list=['BOS/EOS', '記号'], extract_POS_list=[], delete_human_name=True):\n",
    "        \"\"\"textの前処理(親クラス).\n",
    "\n",
    "        # Arguments\n",
    "            dict_option: それぞれのAPIの初期設定に必要な辞書やモデル\n",
    "            delete_POS_list: 取り除く品詞のリスト\n",
    "            extract_POS_list: 抽出する品詞のリスト(なければすべて)\n",
    "\n",
    "        # How to use\n",
    "            preprocess = Base_preprocess()\n",
    "            output = preprocess.wakati(text)\n",
    "\n",
    "        \"\"\"\n",
    "        self.api = self._build_api(dict_option)\n",
    "        self.delete_POS_list = delete_POS_list\n",
    "        self.extract_POS_list = extract_POS_list\n",
    "        self.delete_human_name = delete_human_name\n",
    "        \n",
    "    def _build_api(self, dict_option):\n",
    "        \"\"\"\n",
    "        Subclasses should override for any actions to run.\n",
    "        \"\"\"\n",
    "        api = None\n",
    "        return api\n",
    "    \n",
    "    def _delete_judge(self, info):\n",
    "        # 削除に指定されたPOSの単語の場合 True\n",
    "        if info[0] in self.delete_POS_list:\n",
    "            return True\n",
    "        # 人名の場合 True\n",
    "        if self.delete_human_name and info[2] == '人名':\n",
    "            return True\n",
    "        # 抽出に指定されたPOSの単語の場合\n",
    "        if len(self.extract_POS_list) != 0:\n",
    "            if info[0] in self.extract_POS_list:\n",
    "                return False\n",
    "            else:\n",
    "                return True\n",
    "        return False\n",
    "\n",
    "    def _extract_word(self, POS):\n",
    "        if len(self.extract_POS_list) == 0 or POS in self.extract_POS_list:\n",
    "            return True\n",
    "        else:\n",
    "            return False\n",
    "    \n",
    "    def wakati(self, text):\n",
    "        \"\"\"\n",
    "        Subclasses should override for any actions to run.\n",
    "        \"\"\"\n",
    "        output = None\n",
    "        return output\n",
    "    \n",
    "    def lemma_wakati(self, text):\n",
    "        \"\"\"\n",
    "        Subclasses should override for any actions to run.\n",
    "        \"\"\"\n",
    "        \n",
    "        output = None\n",
    "        return output\n",
    "    \n",
    "\n",
    "class MecabPreprocess(BasePreprocess):\n",
    "    def __init__(self, dict_option='', delete_POS_list=['BOS/EOS', '記号'], extract_POS_list=[], delete_human_name=True):\n",
    "        super(Mecab_preprocess, self).__init__(dict_option, delete_POS_list, extract_POS_list, delete_human_name)\n",
    "        \n",
    "    def _build_api(self, dict_option):\n",
    "        api = MeCab.Tagger(dict_option)\n",
    "        api.parse('')\n",
    "        return api\n",
    "            \n",
    "    def wakati(self, text):\n",
    "        node = self.api.parseToNode(text)\n",
    "        output = \"\"\n",
    "        while node:\n",
    "            word = node.surface\n",
    "            info = node.feature.split(',')\n",
    "            if not self._delete_judge(info) and word != '':\n",
    "                output += word\n",
    "                output += \" \"\n",
    "            node = node.next \n",
    "        output = output[:-1]\n",
    "        return output\n",
    "    \n",
    "    def lemma_wakati(self, text):\n",
    "        node = self.api.parseToNode(text)\n",
    "        output = \"\"\n",
    "        while node:\n",
    "            info = node.feature.split(',')\n",
    "            word = info[6]\n",
    "            if not self._delete_judge(info) and word != '':\n",
    "                output += word\n",
    "                output += \" \"\n",
    "            node = node.next\n",
    "        output = output[:-1]\n",
    "        return output\n",
    "\n",
    "\n",
    "class GinzaPreprocess(BasePreprocess):\n",
    "    def __init__(self, dict_option='ja_ginza_nopn', delete_POS_list=['BOS/EOS', '補助記号'], extract_POS_list=[]):\n",
    "        super(GiNZA_preprocess, self).__init__(dict_option, delete_POS_list, extract_POS_list)\n",
    "        \n",
    "    def _build_api(self, dict_option):\n",
    "        api = spacy.load('ja_ginza_nopn')\n",
    "        return api\n",
    "    \n",
    "    def wakati(self, text):\n",
    "        doc = self.api(text)\n",
    "        output = \"\"\n",
    "        for sent in doc.sents:\n",
    "            for token in sent:\n",
    "                word = token.orth_\n",
    "                info = token._.pos_detail.split(',')\n",
    "                if not self._delete_judge(info) and word != '':\n",
    "                    output += word\n",
    "                    output += \" \"\n",
    "        output = output[:-1]\n",
    "        return output\n",
    "    \n",
    "    def lemma_wakati(self, text):\n",
    "        doc = self.api(text)\n",
    "        output = \"\"\n",
    "        for sent in doc.sents:\n",
    "            for token in sent:\n",
    "                word = token.lemma_\n",
    "                info = token._.pos_detail.split(',')\n",
    "                if not self._delete_judge(info) and word != '':\n",
    "                    output += word\n",
    "                    output += \" \"\n",
    "        output = output[:-1]\n",
    "        return output"
   ]
  },
  {
   "cell_type": "code",
   "execution_count": 43,
   "metadata": {},
   "outputs": [],
   "source": [
    "text ='終わらせろaaaaaaaa by facebook'"
   ]
  },
  {
   "cell_type": "code",
   "execution_count": 44,
   "metadata": {},
   "outputs": [
    {
     "data": {
      "text/plain": [
       "6"
      ]
     },
     "execution_count": 44,
     "metadata": {},
     "output_type": "execute_result"
    }
   ],
   "source": [
    "text.rfind('by')"
   ]
  },
  {
   "cell_type": "code",
   "execution_count": 50,
   "metadata": {},
   "outputs": [
    {
     "data": {
      "text/plain": [
       "'終わらせろ '"
      ]
     },
     "execution_count": 50,
     "metadata": {},
     "output_type": "execute_result"
    }
   ],
   "source": [
    "text[:text.rfind('by', 0, 8)]"
   ]
  },
  {
   "cell_type": "code",
   "execution_count": 40,
   "metadata": {},
   "outputs": [
    {
     "data": {
      "text/plain": [
       "'依存構造解析の実験を行っています。(夏目漱石'"
      ]
     },
     "execution_count": 40,
     "metadata": {},
     "output_type": "execute_result"
    }
   ],
   "source": [
    "text = '依存構造解析の実験を行っています。(夏目漱石)'\n",
    "text[:text.rfind('by', -1, -8)]"
   ]
  },
  {
   "cell_type": "code",
   "execution_count": 33,
   "metadata": {},
   "outputs": [
    {
     "data": {
      "text/plain": [
       "'立てよ 国民'"
      ]
     },
     "execution_count": 33,
     "metadata": {},
     "output_type": "execute_result"
    }
   ],
   "source": [
    "preprocess = Mecab_preprocess()\n",
    "text ='終わらせろ by facebook'\n",
    "output = preprocess.wakati(text)\n",
    "output"
   ]
  },
  {
   "cell_type": "code",
   "execution_count": 34,
   "metadata": {},
   "outputs": [
    {
     "data": {
      "text/plain": [
       "'依存 構造 解析 の 実験 を 行っ て い ます'"
      ]
     },
     "execution_count": 34,
     "metadata": {},
     "output_type": "execute_result"
    }
   ],
   "source": [
    "preprocess = GiNZA_preprocess()\n",
    "text ='依存構造解析の実験を行っています。(夏目漱石)'\n",
    "output = preprocess.wakati(text)\n",
    "output"
   ]
  },
  {
   "cell_type": "code",
   "execution_count": 1,
   "metadata": {},
   "outputs": [],
   "source": [
    "import sys\n",
    "sys.path.append('../src/utils/')\n",
    "import preprocess_function as preprocess_func"
   ]
  },
  {
   "cell_type": "code",
   "execution_count": 2,
   "metadata": {},
   "outputs": [
    {
     "data": {
      "text/plain": [
       "'終わら せろ '"
      ]
     },
     "execution_count": 2,
     "metadata": {},
     "output_type": "execute_result"
    }
   ],
   "source": [
    "preprocess = preprocess_func.MecabPreprocess()\n",
    "text ='終わらせろ'\n",
    "output = preprocess.wakati(text)\n",
    "output"
   ]
  },
  {
   "cell_type": "markdown",
   "metadata": {},
   "source": [
    "## 実際にCSVに書き込み"
   ]
  },
  {
   "cell_type": "code",
   "execution_count": 8,
   "metadata": {},
   "outputs": [],
   "source": [
    "base_csv_path = '../data/text_data/crawler/positive_bot3.csv'"
   ]
  },
  {
   "cell_type": "code",
   "execution_count": 9,
   "metadata": {},
   "outputs": [],
   "source": [
    "import pandas as pd"
   ]
  },
  {
   "cell_type": "code",
   "execution_count": 10,
   "metadata": {},
   "outputs": [],
   "source": [
    "df = pd.read_csv(base_csv_path)"
   ]
  },
  {
   "cell_type": "code",
   "execution_count": 11,
   "metadata": {},
   "outputs": [
    {
     "data": {
      "text/html": [
       "<div>\n",
       "<style scoped>\n",
       "    .dataframe tbody tr th:only-of-type {\n",
       "        vertical-align: middle;\n",
       "    }\n",
       "\n",
       "    .dataframe tbody tr th {\n",
       "        vertical-align: top;\n",
       "    }\n",
       "\n",
       "    .dataframe thead th {\n",
       "        text-align: right;\n",
       "    }\n",
       "</style>\n",
       "<table border=\"1\" class=\"dataframe\">\n",
       "  <thead>\n",
       "    <tr style=\"text-align: right;\">\n",
       "      <th></th>\n",
       "      <th>re_text</th>\n",
       "    </tr>\n",
       "  </thead>\n",
       "  <tbody>\n",
       "    <tr>\n",
       "      <th>0</th>\n",
       "      <td>ハードルは高ければ高いほどくぐりやすい。</td>\n",
       "    </tr>\n",
       "    <tr>\n",
       "      <th>1</th>\n",
       "      <td>「明日は、明日こそは」と、 人はそれをなだめる。この「明日」が、彼を墓場に送り込むその日まで。</td>\n",
       "    </tr>\n",
       "    <tr>\n",
       "      <th>2</th>\n",
       "      <td>乗りかけた船には、ためらわず乗ってしまえ。</td>\n",
       "    </tr>\n",
       "    <tr>\n",
       "      <th>3</th>\n",
       "      <td>99%ダメ?? あと1%あるやん。</td>\n",
       "    </tr>\n",
       "    <tr>\n",
       "      <th>4</th>\n",
       "      <td>人より早く起き、人より努力して、初めて成功の味を真に噛みしめる事ができる。</td>\n",
       "    </tr>\n",
       "  </tbody>\n",
       "</table>\n",
       "</div>"
      ],
      "text/plain": [
       "                                           re_text\n",
       "0                             ハードルは高ければ高いほどくぐりやすい。\n",
       "1  「明日は、明日こそは」と、 人はそれをなだめる。この「明日」が、彼を墓場に送り込むその日まで。\n",
       "2                            乗りかけた船には、ためらわず乗ってしまえ。\n",
       "3                                99%ダメ?? あと1%あるやん。\n",
       "4           人より早く起き、人より努力して、初めて成功の味を真に噛みしめる事ができる。 "
      ]
     },
     "execution_count": 11,
     "metadata": {},
     "output_type": "execute_result"
    }
   ],
   "source": [
    "a = {'re_text': df['text']}\n",
    "b = pd.DataFrame(a)\n",
    "b.head()"
   ]
  },
  {
   "cell_type": "code",
   "execution_count": 12,
   "metadata": {},
   "outputs": [
    {
     "data": {
      "application/vnd.jupyter.widget-view+json": {
       "model_id": "bb9f49c5b2bc452494d14ca49f2b5379",
       "version_major": 2,
       "version_minor": 0
      },
      "text/plain": [
       "HBox(children=(IntProgress(value=0, max=3233), HTML(value='')))"
      ]
     },
     "metadata": {},
     "output_type": "display_data"
    },
    {
     "name": "stdout",
     "output_type": "stream",
     "text": [
      "\n"
     ]
    },
    {
     "data": {
      "text/html": [
       "<div>\n",
       "<style scoped>\n",
       "    .dataframe tbody tr th:only-of-type {\n",
       "        vertical-align: middle;\n",
       "    }\n",
       "\n",
       "    .dataframe tbody tr th {\n",
       "        vertical-align: top;\n",
       "    }\n",
       "\n",
       "    .dataframe thead th {\n",
       "        text-align: right;\n",
       "    }\n",
       "</style>\n",
       "<table border=\"1\" class=\"dataframe\">\n",
       "  <thead>\n",
       "    <tr style=\"text-align: right;\">\n",
       "      <th></th>\n",
       "      <th>wakati_text</th>\n",
       "    </tr>\n",
       "  </thead>\n",
       "  <tbody>\n",
       "    <tr>\n",
       "      <th>0</th>\n",
       "      <td>ハードル は 高けれ ば 高い ほど くぐり やすい</td>\n",
       "    </tr>\n",
       "    <tr>\n",
       "      <th>1</th>\n",
       "      <td>明日 は 明日 こそ は と 人 は それ を なだめる この 明日 が 彼 を 墓場 に ...</td>\n",
       "    </tr>\n",
       "    <tr>\n",
       "      <th>2</th>\n",
       "      <td>乗り かけ た 船 に は ためらわ ず 乗っ て しまえ</td>\n",
       "    </tr>\n",
       "    <tr>\n",
       "      <th>3</th>\n",
       "      <td>99 % ダメ あと 1 % ある や ん</td>\n",
       "    </tr>\n",
       "    <tr>\n",
       "      <th>4</th>\n",
       "      <td>人 より 早く 起き 人 より 努力 し て 初めて 成功 の 味 を 真 に 噛みしめる ...</td>\n",
       "    </tr>\n",
       "  </tbody>\n",
       "</table>\n",
       "</div>"
      ],
      "text/plain": [
       "                                         wakati_text\n",
       "0                         ハードル は 高けれ ば 高い ほど くぐり やすい\n",
       "1  明日 は 明日 こそ は と 人 は それ を なだめる この 明日 が 彼 を 墓場 に ...\n",
       "2                      乗り かけ た 船 に は ためらわ ず 乗っ て しまえ\n",
       "3                              99 % ダメ あと 1 % ある や ん\n",
       "4  人 より 早く 起き 人 より 努力 し て 初めて 成功 の 味 を 真 に 噛みしめる ..."
      ]
     },
     "execution_count": 12,
     "metadata": {},
     "output_type": "execute_result"
    }
   ],
   "source": [
    "from tqdm._tqdm_notebook import tqdm_notebook as tqdm\n",
    "\n",
    "text_list = df['text']\n",
    "preprocess = GiNZA_preprocess()\n",
    "wakati_text_list = []\n",
    "for text in tqdm(text_list):\n",
    "    wakati_text_list.append(preprocess.wakati(text))\n",
    "wakati_df = pd.DataFrame({'wakati_text': wakati_text_list})\n",
    "wakati_df.head()"
   ]
  },
  {
   "cell_type": "code",
   "execution_count": 13,
   "metadata": {},
   "outputs": [
    {
     "data": {
      "application/vnd.jupyter.widget-view+json": {
       "model_id": "f6aaeac644194a8e86780157da5f760c",
       "version_major": 2,
       "version_minor": 0
      },
      "text/plain": [
       "HBox(children=(IntProgress(value=0, max=3233), HTML(value='')))"
      ]
     },
     "metadata": {},
     "output_type": "display_data"
    },
    {
     "name": "stdout",
     "output_type": "stream",
     "text": [
      "\n"
     ]
    },
    {
     "data": {
      "text/html": [
       "<div>\n",
       "<style scoped>\n",
       "    .dataframe tbody tr th:only-of-type {\n",
       "        vertical-align: middle;\n",
       "    }\n",
       "\n",
       "    .dataframe tbody tr th {\n",
       "        vertical-align: top;\n",
       "    }\n",
       "\n",
       "    .dataframe thead th {\n",
       "        text-align: right;\n",
       "    }\n",
       "</style>\n",
       "<table border=\"1\" class=\"dataframe\">\n",
       "  <thead>\n",
       "    <tr style=\"text-align: right;\">\n",
       "      <th></th>\n",
       "      <th>wakati_text</th>\n",
       "    </tr>\n",
       "  </thead>\n",
       "  <tbody>\n",
       "    <tr>\n",
       "      <th>0</th>\n",
       "      <td>ハードル は 高けれ ば 高い ほど くぐり やすい</td>\n",
       "    </tr>\n",
       "    <tr>\n",
       "      <th>1</th>\n",
       "      <td>明日 は 明日 こそ は と 人 は それ を なだめる この 明日 が 彼 を 墓場 に ...</td>\n",
       "    </tr>\n",
       "    <tr>\n",
       "      <th>2</th>\n",
       "      <td>乗りかけ た 船 に は ためらわ ず 乗っ て しまえ</td>\n",
       "    </tr>\n",
       "    <tr>\n",
       "      <th>3</th>\n",
       "      <td>99% ダメ あと 1% ある やん</td>\n",
       "    </tr>\n",
       "    <tr>\n",
       "      <th>4</th>\n",
       "      <td>人 より 早く 起き 人 より 努力 し て 初めて 成功 の 味 を 真に 噛みしめる 事...</td>\n",
       "    </tr>\n",
       "  </tbody>\n",
       "</table>\n",
       "</div>"
      ],
      "text/plain": [
       "                                         wakati_text\n",
       "0                         ハードル は 高けれ ば 高い ほど くぐり やすい\n",
       "1  明日 は 明日 こそ は と 人 は それ を なだめる この 明日 が 彼 を 墓場 に ...\n",
       "2                       乗りかけ た 船 に は ためらわ ず 乗っ て しまえ\n",
       "3                                 99% ダメ あと 1% ある やん\n",
       "4  人 より 早く 起き 人 より 努力 し て 初めて 成功 の 味 を 真に 噛みしめる 事..."
      ]
     },
     "execution_count": 13,
     "metadata": {},
     "output_type": "execute_result"
    }
   ],
   "source": [
    "text_list = df['text']\n",
    "preprocess = Mecab_preprocess()\n",
    "mecab_wakati_text_list = []\n",
    "for text in tqdm(text_list):\n",
    "    mecab_wakati_text_list.append(preprocess.wakati(text))\n",
    "mecab_wakati_df = pd.DataFrame({'wakati_text': mecab_wakati_text_list})\n",
    "mecab_wakati_df.head()"
   ]
  },
  {
   "cell_type": "code",
   "execution_count": 14,
   "metadata": {},
   "outputs": [
    {
     "data": {
      "text/html": [
       "<div>\n",
       "<style scoped>\n",
       "    .dataframe tbody tr th:only-of-type {\n",
       "        vertical-align: middle;\n",
       "    }\n",
       "\n",
       "    .dataframe tbody tr th {\n",
       "        vertical-align: top;\n",
       "    }\n",
       "\n",
       "    .dataframe thead th {\n",
       "        text-align: right;\n",
       "    }\n",
       "</style>\n",
       "<table border=\"1\" class=\"dataframe\">\n",
       "  <thead>\n",
       "    <tr style=\"text-align: right;\">\n",
       "      <th></th>\n",
       "      <th>created_at</th>\n",
       "      <th>id</th>\n",
       "      <th>screen_name</th>\n",
       "      <th>text</th>\n",
       "      <th>wakati_text</th>\n",
       "    </tr>\n",
       "  </thead>\n",
       "  <tbody>\n",
       "    <tr>\n",
       "      <th>0</th>\n",
       "      <td>Thu Apr 11 13:18:49 +0000 2019</td>\n",
       "      <td>1116329758181085184</td>\n",
       "      <td>positive_bot3</td>\n",
       "      <td>ハードルは高ければ高いほどくぐりやすい。</td>\n",
       "      <td>ハードル は 高けれ ば 高い ほど くぐり やすい</td>\n",
       "    </tr>\n",
       "    <tr>\n",
       "      <th>1</th>\n",
       "      <td>Thu Apr 11 11:18:49 +0000 2019</td>\n",
       "      <td>1116299557946585089</td>\n",
       "      <td>positive_bot3</td>\n",
       "      <td>「明日は、明日こそは」と、 人はそれをなだめる。この「明日」が、彼を墓場に送り込むその日まで。</td>\n",
       "      <td>明日 は 明日 こそ は と 人 は それ を なだめる この 明日 が 彼 を 墓場 に ...</td>\n",
       "    </tr>\n",
       "    <tr>\n",
       "      <th>2</th>\n",
       "      <td>Thu Apr 11 07:18:48 +0000 2019</td>\n",
       "      <td>1116239156861001728</td>\n",
       "      <td>positive_bot3</td>\n",
       "      <td>乗りかけた船には、ためらわず乗ってしまえ。</td>\n",
       "      <td>乗りかけ た 船 に は ためらわ ず 乗っ て しまえ</td>\n",
       "    </tr>\n",
       "    <tr>\n",
       "      <th>3</th>\n",
       "      <td>Thu Apr 11 05:18:47 +0000 2019</td>\n",
       "      <td>1116208955355611136</td>\n",
       "      <td>positive_bot3</td>\n",
       "      <td>99%ダメ?? あと1%あるやん。</td>\n",
       "      <td>99% ダメ あと 1% ある やん</td>\n",
       "    </tr>\n",
       "    <tr>\n",
       "      <th>4</th>\n",
       "      <td>Thu Apr 11 03:18:48 +0000 2019</td>\n",
       "      <td>1116178759336337408</td>\n",
       "      <td>positive_bot3</td>\n",
       "      <td>人より早く起き、人より努力して、初めて成功の味を真に噛みしめる事ができる。</td>\n",
       "      <td>人 より 早く 起き 人 より 努力 し て 初めて 成功 の 味 を 真に 噛みしめる 事...</td>\n",
       "    </tr>\n",
       "  </tbody>\n",
       "</table>\n",
       "</div>"
      ],
      "text/plain": [
       "                       created_at                   id    screen_name  \\\n",
       "0  Thu Apr 11 13:18:49 +0000 2019  1116329758181085184  positive_bot3   \n",
       "1  Thu Apr 11 11:18:49 +0000 2019  1116299557946585089  positive_bot3   \n",
       "2  Thu Apr 11 07:18:48 +0000 2019  1116239156861001728  positive_bot3   \n",
       "3  Thu Apr 11 05:18:47 +0000 2019  1116208955355611136  positive_bot3   \n",
       "4  Thu Apr 11 03:18:48 +0000 2019  1116178759336337408  positive_bot3   \n",
       "\n",
       "                                              text  \\\n",
       "0                             ハードルは高ければ高いほどくぐりやすい。   \n",
       "1  「明日は、明日こそは」と、 人はそれをなだめる。この「明日」が、彼を墓場に送り込むその日まで。   \n",
       "2                            乗りかけた船には、ためらわず乗ってしまえ。   \n",
       "3                                99%ダメ?? あと1%あるやん。   \n",
       "4           人より早く起き、人より努力して、初めて成功の味を真に噛みしめる事ができる。    \n",
       "\n",
       "                                         wakati_text  \n",
       "0                         ハードル は 高けれ ば 高い ほど くぐり やすい  \n",
       "1  明日 は 明日 こそ は と 人 は それ を なだめる この 明日 が 彼 を 墓場 に ...  \n",
       "2                       乗りかけ た 船 に は ためらわ ず 乗っ て しまえ  \n",
       "3                                 99% ダメ あと 1% ある やん  \n",
       "4  人 より 早く 起き 人 より 努力 し て 初めて 成功 の 味 を 真に 噛みしめる 事...  "
      ]
     },
     "execution_count": 14,
     "metadata": {},
     "output_type": "execute_result"
    }
   ],
   "source": [
    "pd.concat([df, mecab_wakati_df], axis=1).head()"
   ]
  },
  {
   "cell_type": "code",
   "execution_count": 15,
   "metadata": {},
   "outputs": [],
   "source": [
    "wakati_df = pd.concat([df, mecab_wakati_df], axis=1)"
   ]
  },
  {
   "cell_type": "code",
   "execution_count": 58,
   "metadata": {},
   "outputs": [
    {
     "data": {
      "text/html": [
       "<div>\n",
       "<style scoped>\n",
       "    .dataframe tbody tr th:only-of-type {\n",
       "        vertical-align: middle;\n",
       "    }\n",
       "\n",
       "    .dataframe tbody tr th {\n",
       "        vertical-align: top;\n",
       "    }\n",
       "\n",
       "    .dataframe thead th {\n",
       "        text-align: right;\n",
       "    }\n",
       "</style>\n",
       "<table border=\"1\" class=\"dataframe\">\n",
       "  <thead>\n",
       "    <tr style=\"text-align: right;\">\n",
       "      <th></th>\n",
       "      <th>created_at</th>\n",
       "      <th>id</th>\n",
       "      <th>screen_name</th>\n",
       "      <th>text</th>\n",
       "      <th>wakati_text</th>\n",
       "    </tr>\n",
       "  </thead>\n",
       "  <tbody>\n",
       "    <tr>\n",
       "      <th>0</th>\n",
       "      <td>Mon Apr 15 05:35:35 +0000 2019</td>\n",
       "      <td>1117662734529646592</td>\n",
       "      <td>nega_bot</td>\n",
       "      <td>優しさがつらすぎる</td>\n",
       "      <td>優しさ が つら すぎる</td>\n",
       "    </tr>\n",
       "    <tr>\n",
       "      <th>1</th>\n",
       "      <td>Mon Apr 15 05:05:39 +0000 2019</td>\n",
       "      <td>1117655201505169408</td>\n",
       "      <td>nega_bot</td>\n",
       "      <td>終わってる</td>\n",
       "      <td>終わっ てる</td>\n",
       "    </tr>\n",
       "    <tr>\n",
       "      <th>2</th>\n",
       "      <td>Mon Apr 15 04:35:35 +0000 2019</td>\n",
       "      <td>1117647635978960896</td>\n",
       "      <td>nega_bot</td>\n",
       "      <td>生きてる意義がわからない</td>\n",
       "      <td>生き てる 意義 が わから ない</td>\n",
       "    </tr>\n",
       "    <tr>\n",
       "      <th>3</th>\n",
       "      <td>Mon Apr 15 03:35:37 +0000 2019</td>\n",
       "      <td>1117632542725689345</td>\n",
       "      <td>nega_bot</td>\n",
       "      <td>もう何年も何もしてない</td>\n",
       "      <td>もう 何 年 も 何 も し て ない</td>\n",
       "    </tr>\n",
       "    <tr>\n",
       "      <th>4</th>\n",
       "      <td>Mon Apr 15 03:05:37 +0000 2019</td>\n",
       "      <td>1117624993590833152</td>\n",
       "      <td>nega_bot</td>\n",
       "      <td>調査マジしんどい</td>\n",
       "      <td>調査 マジ しんどい</td>\n",
       "    </tr>\n",
       "  </tbody>\n",
       "</table>\n",
       "</div>"
      ],
      "text/plain": [
       "                       created_at                   id screen_name  \\\n",
       "0  Mon Apr 15 05:35:35 +0000 2019  1117662734529646592    nega_bot   \n",
       "1  Mon Apr 15 05:05:39 +0000 2019  1117655201505169408    nega_bot   \n",
       "2  Mon Apr 15 04:35:35 +0000 2019  1117647635978960896    nega_bot   \n",
       "3  Mon Apr 15 03:35:37 +0000 2019  1117632542725689345    nega_bot   \n",
       "4  Mon Apr 15 03:05:37 +0000 2019  1117624993590833152    nega_bot   \n",
       "\n",
       "           text          wakati_text  \n",
       "0     優しさがつらすぎる         優しさ が つら すぎる  \n",
       "1         終わってる               終わっ てる  \n",
       "2  生きてる意義がわからない    生き てる 意義 が わから ない  \n",
       "3   もう何年も何もしてない  もう 何 年 も 何 も し て ない  \n",
       "4      調査マジしんどい           調査 マジ しんどい  "
      ]
     },
     "execution_count": 58,
     "metadata": {},
     "output_type": "execute_result"
    }
   ],
   "source": [
    "df = pd.read_csv('../data/text_data/crawler/negative/nega_bot.csv')\n",
    "df.head()"
   ]
  }
 ],
 "metadata": {
  "kernelspec": {
   "display_name": "Python 3",
   "language": "python",
   "name": "python3"
  },
  "language_info": {
   "codemirror_mode": {
    "name": "ipython",
    "version": 3
   },
   "file_extension": ".py",
   "mimetype": "text/x-python",
   "name": "python",
   "nbconvert_exporter": "python",
   "pygments_lexer": "ipython3",
   "version": "3.7.3"
  }
 },
 "nbformat": 4,
 "nbformat_minor": 2
}
